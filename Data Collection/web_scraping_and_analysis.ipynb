{
 "cells": [
  {
   "cell_type": "markdown",
   "metadata": {},
   "source": [
    "## Data Collection"
   ]
  },
  {
   "cell_type": "code",
   "execution_count": 1,
   "metadata": {},
   "outputs": [],
   "source": [
    "import requests\n",
    "from bs4 import BeautifulSoup\n",
    "import pandas as pd\n",
    "import numpy as np"
   ]
  },
  {
   "cell_type": "code",
   "execution_count": 2,
   "metadata": {},
   "outputs": [],
   "source": [
    "# creating an empty list to collect all the reviews\n",
    "reviews = []\n",
    "\n",
    "# creating an empty list to collect rating stars\n",
    "stars = []\n",
    "\n",
    "# creating an empty list to collect dates\n",
    "date = []\n",
    "\n",
    "# creating an empty list to collect country\n",
    "country = []"
   ]
  },
  {
   "cell_type": "code",
   "execution_count": 3,
   "metadata": {},
   "outputs": [
    {
     "name": "stdout",
     "output_type": "stream",
     "text": [
      "Scraping page 1\n",
      "   ---> 100 total reviews\n",
      "   ---> 101 total stars\n",
      "   ---> 100 total dates\n",
      "   ---> 100 total countries\n",
      "Scraping page 2\n",
      "   ---> 200 total reviews\n",
      "   ---> 202 total stars\n",
      "   ---> 200 total dates\n",
      "   ---> 200 total countries\n",
      "Scraping page 3\n",
      "   ---> 300 total reviews\n",
      "   ---> 303 total stars\n",
      "   ---> 300 total dates\n",
      "   ---> 300 total countries\n",
      "Scraping page 4\n",
      "   ---> 400 total reviews\n",
      "   ---> 404 total stars\n",
      "   ---> 400 total dates\n",
      "   ---> 400 total countries\n",
      "Scraping page 5\n",
      "   ---> 500 total reviews\n",
      "   ---> 505 total stars\n",
      "   ---> 500 total dates\n",
      "   ---> 500 total countries\n",
      "Scraping page 6\n",
      "   ---> 600 total reviews\n",
      "   ---> 606 total stars\n",
      "   ---> 600 total dates\n",
      "   ---> 600 total countries\n",
      "Scraping page 7\n",
      "   ---> 700 total reviews\n",
      "   ---> 707 total stars\n",
      "   ---> 700 total dates\n",
      "   ---> 700 total countries\n",
      "Scraping page 8\n",
      "   ---> 800 total reviews\n",
      "   ---> 808 total stars\n",
      "   ---> 800 total dates\n",
      "   ---> 800 total countries\n",
      "Scraping page 9\n",
      "   ---> 900 total reviews\n",
      "   ---> 909 total stars\n",
      "   ---> 900 total dates\n",
      "   ---> 900 total countries\n",
      "Scraping page 10\n",
      "   ---> 1000 total reviews\n",
      "   ---> 1010 total stars\n",
      "   ---> 1000 total dates\n",
      "   ---> 1000 total countries\n"
     ]
    }
   ],
   "source": [
    "base_url = \"https://www.airlinequality.com/airline-reviews/british-airways\"\n",
    "pages = 10\n",
    "page_size = 100\n",
    "\n",
    "# for i in range(1, pages + 1):\n",
    "for i in range(1, pages + 1):\n",
    "\n",
    "    print(f\"Scraping page {i}\")\n",
    "\n",
    "    # Create URL to collect links from paginated data\n",
    "    url = f\"{base_url}/page/{i}/?sortby=post_date%3ADesc&pagesize={page_size}\"\n",
    "\n",
    "    # Collect HTML data from this page\n",
    "    response = requests.get(url)\n",
    "\n",
    "    # Parse content\n",
    "    content = response.content\n",
    "    parsed_content = BeautifulSoup(content, 'html.parser')\n",
    "    \n",
    "    # Collecting review\n",
    "    for para in parsed_content.find_all(\"div\", {\"class\": \"text_content\"}):\n",
    "        try:\n",
    "            reviews.append(para.text)\n",
    "        except:\n",
    "            print(f\"Error on page{i} in reviews\")\n",
    "            reviews.append(\"None\")\n",
    "    \n",
    "    print(f\"   ---> {len(reviews)} total reviews\")\n",
    "    \n",
    "    # Collecting no. of stars\n",
    "    for para in parsed_content.find_all(\"div\", {\"class\": \"rating-10\"}):\n",
    "        try:\n",
    "            stars.append(para.span.text)\n",
    "        except:\n",
    "            print(f\"Error on page{i}\")\n",
    "            stars.append(\"None\")\n",
    "            \n",
    "    print(f\"   ---> {len(stars)} total stars\")\n",
    "    \n",
    "    # Collecting date of review\n",
    "    for para in parsed_content.find_all(\"time\"):\n",
    "        try:\n",
    "            date.append(para.text)\n",
    "        except:\n",
    "            print(f\"Error on page{i} in Date\")\n",
    "            date.append(\"None\")\n",
    "        \n",
    "    \n",
    "    print(f\"   ---> {len(date)} total dates\")\n",
    "    \n",
    "    # Collecting the country of the reviewer\n",
    "    for para in parsed_content.find_all(\"h3\"):\n",
    "        try:\n",
    "            country.append(para.span.next_sibling.text.strip(\" ()\"))\n",
    "        except:\n",
    "            print(f\"Error on page{i} in Country\")\n",
    "            country.append(\"None\")\n",
    "        \n",
    "        \n",
    "    print(f\"   ---> {len(country)} total countries\")"
   ]
  },
  {
   "cell_type": "code",
   "execution_count": 4,
   "metadata": {},
   "outputs": [
    {
     "data": {
      "text/plain": [
       "1000"
      ]
     },
     "execution_count": 4,
     "metadata": {},
     "output_type": "execute_result"
    }
   ],
   "source": [
    "len(reviews)"
   ]
  },
  {
   "cell_type": "code",
   "execution_count": 5,
   "metadata": {},
   "outputs": [
    {
     "data": {
      "text/plain": [
       "1010"
      ]
     },
     "execution_count": 5,
     "metadata": {},
     "output_type": "execute_result"
    }
   ],
   "source": [
    "len(stars)"
   ]
  },
  {
   "cell_type": "code",
   "execution_count": 6,
   "metadata": {},
   "outputs": [
    {
     "data": {
      "text/plain": [
       "1000"
      ]
     },
     "execution_count": 6,
     "metadata": {},
     "output_type": "execute_result"
    }
   ],
   "source": [
    "len(date)"
   ]
  },
  {
   "cell_type": "code",
   "execution_count": 7,
   "metadata": {},
   "outputs": [
    {
     "data": {
      "text/plain": [
       "1000"
      ]
     },
     "execution_count": 7,
     "metadata": {},
     "output_type": "execute_result"
    }
   ],
   "source": [
    "len(country)"
   ]
  },
  {
   "cell_type": "code",
   "execution_count": 8,
   "metadata": {},
   "outputs": [],
   "source": [
    "stars = stars[:1000]"
   ]
  },
  {
   "cell_type": "code",
   "execution_count": 9,
   "metadata": {},
   "outputs": [
    {
     "data": {
      "text/html": [
       "<div>\n",
       "<style scoped>\n",
       "    .dataframe tbody tr th:only-of-type {\n",
       "        vertical-align: middle;\n",
       "    }\n",
       "\n",
       "    .dataframe tbody tr th {\n",
       "        vertical-align: top;\n",
       "    }\n",
       "\n",
       "    .dataframe thead th {\n",
       "        text-align: right;\n",
       "    }\n",
       "</style>\n",
       "<table border=\"1\" class=\"dataframe\">\n",
       "  <thead>\n",
       "    <tr style=\"text-align: right;\">\n",
       "      <th></th>\n",
       "      <th>reviews</th>\n",
       "      <th>stars</th>\n",
       "      <th>date</th>\n",
       "      <th>country</th>\n",
       "    </tr>\n",
       "  </thead>\n",
       "  <tbody>\n",
       "    <tr>\n",
       "      <th>0</th>\n",
       "      <td>✅ Trip Verified |  I booked our first out of c...</td>\n",
       "      <td>\\n\\t\\t\\t\\t\\t\\t\\t\\t\\t\\t\\t\\t\\t5</td>\n",
       "      <td>8th June 2023</td>\n",
       "      <td>United States</td>\n",
       "    </tr>\n",
       "    <tr>\n",
       "      <th>1</th>\n",
       "      <td>✅ Trip Verified | My husband and I booked seat...</td>\n",
       "      <td>1</td>\n",
       "      <td>7th June 2023</td>\n",
       "      <td>United Kingdom</td>\n",
       "    </tr>\n",
       "    <tr>\n",
       "      <th>2</th>\n",
       "      <td>Not Verified |  May 3, flew from Seattle to He...</td>\n",
       "      <td>4</td>\n",
       "      <td>6th June 2023</td>\n",
       "      <td>United States</td>\n",
       "    </tr>\n",
       "    <tr>\n",
       "      <th>3</th>\n",
       "      <td>✅ Trip Verified | I went through three flights...</td>\n",
       "      <td>1</td>\n",
       "      <td>6th June 2023</td>\n",
       "      <td>Greece</td>\n",
       "    </tr>\n",
       "    <tr>\n",
       "      <th>4</th>\n",
       "      <td>✅ Trip Verified | An excellent flight in Club ...</td>\n",
       "      <td>2</td>\n",
       "      <td>6th June 2023</td>\n",
       "      <td>United Kingdom</td>\n",
       "    </tr>\n",
       "  </tbody>\n",
       "</table>\n",
       "</div>"
      ],
      "text/plain": [
       "                                             reviews  \\\n",
       "0  ✅ Trip Verified |  I booked our first out of c...   \n",
       "1  ✅ Trip Verified | My husband and I booked seat...   \n",
       "2  Not Verified |  May 3, flew from Seattle to He...   \n",
       "3  ✅ Trip Verified | I went through three flights...   \n",
       "4  ✅ Trip Verified | An excellent flight in Club ...   \n",
       "\n",
       "                           stars           date         country  \n",
       "0  \\n\\t\\t\\t\\t\\t\\t\\t\\t\\t\\t\\t\\t\\t5  8th June 2023   United States  \n",
       "1                              1  7th June 2023  United Kingdom  \n",
       "2                              4  6th June 2023   United States  \n",
       "3                              1  6th June 2023          Greece  \n",
       "4                              2  6th June 2023  United Kingdom  "
      ]
     },
     "execution_count": 9,
     "metadata": {},
     "output_type": "execute_result"
    }
   ],
   "source": [
    "df = pd.DataFrame({\"reviews\":reviews,\"stars\":stars,\"date\":date,\"country\":country})\n",
    "df.head()"
   ]
  },
  {
   "cell_type": "code",
   "execution_count": 10,
   "metadata": {},
   "outputs": [
    {
     "data": {
      "text/plain": [
       "(1000, 4)"
      ]
     },
     "execution_count": 10,
     "metadata": {},
     "output_type": "execute_result"
    }
   ],
   "source": [
    "df.shape"
   ]
  },
  {
   "cell_type": "markdown",
   "metadata": {},
   "source": [
    "### Exporting the Data into csv format"
   ]
  },
  {
   "cell_type": "code",
   "execution_count": 11,
   "metadata": {},
   "outputs": [],
   "source": [
    "import os\n",
    "\n",
    "cwd = os.getcwd()\n",
    "df.to_csv(cwd+ \"/BA_reviews.csv\")"
   ]
  },
  {
   "cell_type": "markdown",
   "metadata": {},
   "source": [
    "Congratulations! Now you have your dataset for this task! The loops above collected 1000 reviews by iterating through the paginated pages on the website. However, if you want to collect more data, try increasing the number of pages!\n",
    "\n",
    " The next thing that you should do is clean this data to remove any unnecessary text from each of the rows. For example, \"✅ Trip Verified\" can be removed from each row if it exists, as it's not relevant to what we want to investigate."
   ]
  },
  {
   "cell_type": "markdown",
   "metadata": {},
   "source": [
    "## Data Cleaning"
   ]
  },
  {
   "cell_type": "code",
   "execution_count": 12,
   "metadata": {},
   "outputs": [],
   "source": [
    "import re"
   ]
  },
  {
   "cell_type": "code",
   "execution_count": 13,
   "metadata": {},
   "outputs": [
    {
     "data": {
      "text/plain": [
       "0       True\n",
       "1       True\n",
       "2      False\n",
       "3       True\n",
       "4       True\n",
       "       ...  \n",
       "995     True\n",
       "996     True\n",
       "997     True\n",
       "998     True\n",
       "999     True\n",
       "Name: verified, Length: 1000, dtype: bool"
      ]
     },
     "execution_count": 13,
     "metadata": {},
     "output_type": "execute_result"
    }
   ],
   "source": [
    "# Creating Verified binary column for Verified Trips\n",
    "\n",
    "df['verified'] = df.reviews.str.contains(\"Trip Verified\")\n",
    "df['verified']"
   ]
  },
  {
   "cell_type": "code",
   "execution_count": 14,
   "metadata": {},
   "outputs": [
    {
     "data": {
      "text/html": [
       "<div>\n",
       "<style scoped>\n",
       "    .dataframe tbody tr th:only-of-type {\n",
       "        vertical-align: middle;\n",
       "    }\n",
       "\n",
       "    .dataframe tbody tr th {\n",
       "        vertical-align: top;\n",
       "    }\n",
       "\n",
       "    .dataframe thead th {\n",
       "        text-align: right;\n",
       "    }\n",
       "</style>\n",
       "<table border=\"1\" class=\"dataframe\">\n",
       "  <thead>\n",
       "    <tr style=\"text-align: right;\">\n",
       "      <th></th>\n",
       "      <th>reviews</th>\n",
       "      <th>stars</th>\n",
       "      <th>date</th>\n",
       "      <th>country</th>\n",
       "      <th>verified</th>\n",
       "    </tr>\n",
       "  </thead>\n",
       "  <tbody>\n",
       "    <tr>\n",
       "      <th>0</th>\n",
       "      <td>✅ Trip Verified |  I booked our first out of c...</td>\n",
       "      <td>\\n\\t\\t\\t\\t\\t\\t\\t\\t\\t\\t\\t\\t\\t5</td>\n",
       "      <td>8th June 2023</td>\n",
       "      <td>United States</td>\n",
       "      <td>True</td>\n",
       "    </tr>\n",
       "    <tr>\n",
       "      <th>1</th>\n",
       "      <td>✅ Trip Verified | My husband and I booked seat...</td>\n",
       "      <td>1</td>\n",
       "      <td>7th June 2023</td>\n",
       "      <td>United Kingdom</td>\n",
       "      <td>True</td>\n",
       "    </tr>\n",
       "    <tr>\n",
       "      <th>2</th>\n",
       "      <td>Not Verified |  May 3, flew from Seattle to He...</td>\n",
       "      <td>4</td>\n",
       "      <td>6th June 2023</td>\n",
       "      <td>United States</td>\n",
       "      <td>False</td>\n",
       "    </tr>\n",
       "    <tr>\n",
       "      <th>3</th>\n",
       "      <td>✅ Trip Verified | I went through three flights...</td>\n",
       "      <td>1</td>\n",
       "      <td>6th June 2023</td>\n",
       "      <td>Greece</td>\n",
       "      <td>True</td>\n",
       "    </tr>\n",
       "    <tr>\n",
       "      <th>4</th>\n",
       "      <td>✅ Trip Verified | An excellent flight in Club ...</td>\n",
       "      <td>2</td>\n",
       "      <td>6th June 2023</td>\n",
       "      <td>United Kingdom</td>\n",
       "      <td>True</td>\n",
       "    </tr>\n",
       "  </tbody>\n",
       "</table>\n",
       "</div>"
      ],
      "text/plain": [
       "                                             reviews  \\\n",
       "0  ✅ Trip Verified |  I booked our first out of c...   \n",
       "1  ✅ Trip Verified | My husband and I booked seat...   \n",
       "2  Not Verified |  May 3, flew from Seattle to He...   \n",
       "3  ✅ Trip Verified | I went through three flights...   \n",
       "4  ✅ Trip Verified | An excellent flight in Club ...   \n",
       "\n",
       "                           stars           date         country  verified  \n",
       "0  \\n\\t\\t\\t\\t\\t\\t\\t\\t\\t\\t\\t\\t\\t5  8th June 2023   United States      True  \n",
       "1                              1  7th June 2023  United Kingdom      True  \n",
       "2                              4  6th June 2023   United States     False  \n",
       "3                              1  6th June 2023          Greece      True  \n",
       "4                              2  6th June 2023  United Kingdom      True  "
      ]
     },
     "execution_count": 14,
     "metadata": {},
     "output_type": "execute_result"
    }
   ],
   "source": [
    "df.head()"
   ]
  },
  {
   "cell_type": "markdown",
   "metadata": {},
   "source": [
    "### Cleaning Reviews"
   ]
  },
  {
   "cell_type": "code",
   "execution_count": 15,
   "metadata": {},
   "outputs": [],
   "source": [
    "# for lemmatization of words we use nltk library\n",
    "\n",
    "from nltk.stem import WordNetLemmatizer\n",
    "from nltk.corpus import stopwords\n",
    "lemma = WordNetLemmatizer()"
   ]
  },
  {
   "cell_type": "code",
   "execution_count": 16,
   "metadata": {},
   "outputs": [
    {
     "name": "stderr",
     "output_type": "stream",
     "text": [
      "[nltk_data] Downloading package stopwords to\n",
      "[nltk_data]     C:\\Users\\shukl\\AppData\\Roaming\\nltk_data...\n",
      "[nltk_data]   Package stopwords is already up-to-date!\n",
      "[nltk_data] Downloading package wordnet to\n",
      "[nltk_data]     C:\\Users\\shukl\\AppData\\Roaming\\nltk_data...\n",
      "[nltk_data]   Package wordnet is already up-to-date!\n"
     ]
    },
    {
     "data": {
      "text/plain": [
       "True"
      ]
     },
     "execution_count": 16,
     "metadata": {},
     "output_type": "execute_result"
    }
   ],
   "source": [
    "import nltk\n",
    "nltk.download('stopwords')\n",
    "nltk.download('wordnet')"
   ]
  },
  {
   "cell_type": "code",
   "execution_count": 17,
   "metadata": {},
   "outputs": [],
   "source": [
    "df.reviews = df.reviews.str.strip('✅ Trip Verified |')\n",
    "reviews_data = df.reviews.str.strip('Not Verified |')\n",
    "\n",
    "# empty list to collect cleaned data corpus\n",
    "corpus = []\n",
    "\n",
    "# looping each review to remove punctuation, small case it, join it and add it to corpus\n",
    "\n",
    "for rev in reviews_data:\n",
    "    rev = re.sub('[^a-zA-Z]',' ',rev)\n",
    "    rev = rev.lower()\n",
    "    rev = rev.split()\n",
    "    rev = [lemma.lemmatize(word) for word in rev if word not in set(stopwords.words(\"english\"))]\n",
    "    rev = \" \".join(rev)\n",
    "    corpus.append(rev)"
   ]
  },
  {
   "cell_type": "code",
   "execution_count": 18,
   "metadata": {},
   "outputs": [
    {
     "data": {
      "text/html": [
       "<div>\n",
       "<style scoped>\n",
       "    .dataframe tbody tr th:only-of-type {\n",
       "        vertical-align: middle;\n",
       "    }\n",
       "\n",
       "    .dataframe tbody tr th {\n",
       "        vertical-align: top;\n",
       "    }\n",
       "\n",
       "    .dataframe thead th {\n",
       "        text-align: right;\n",
       "    }\n",
       "</style>\n",
       "<table border=\"1\" class=\"dataframe\">\n",
       "  <thead>\n",
       "    <tr style=\"text-align: right;\">\n",
       "      <th></th>\n",
       "      <th>reviews</th>\n",
       "      <th>stars</th>\n",
       "      <th>date</th>\n",
       "      <th>country</th>\n",
       "      <th>verified</th>\n",
       "      <th>corpus</th>\n",
       "    </tr>\n",
       "  </thead>\n",
       "  <tbody>\n",
       "    <tr>\n",
       "      <th>0</th>\n",
       "      <td>I booked our first out of country trip to take...</td>\n",
       "      <td>\\n\\t\\t\\t\\t\\t\\t\\t\\t\\t\\t\\t\\t\\t5</td>\n",
       "      <td>8th June 2023</td>\n",
       "      <td>United States</td>\n",
       "      <td>True</td>\n",
       "      <td>booked first country trip take husband surpris...</td>\n",
       "    </tr>\n",
       "    <tr>\n",
       "      <th>1</th>\n",
       "      <td>My husband and I booked seats within our premi...</td>\n",
       "      <td>1</td>\n",
       "      <td>7th June 2023</td>\n",
       "      <td>United Kingdom</td>\n",
       "      <td>True</td>\n",
       "      <td>husband booked seat within premium economy boo...</td>\n",
       "    </tr>\n",
       "    <tr>\n",
       "      <th>2</th>\n",
       "      <td>Not Verified |  May 3, flew from Seattle to He...</td>\n",
       "      <td>4</td>\n",
       "      <td>6th June 2023</td>\n",
       "      <td>United States</td>\n",
       "      <td>False</td>\n",
       "      <td>may flew seattle heathrow edinburgh ba lost go...</td>\n",
       "    </tr>\n",
       "    <tr>\n",
       "      <th>3</th>\n",
       "      <td>I went through three flights to reach my desti...</td>\n",
       "      <td>1</td>\n",
       "      <td>6th June 2023</td>\n",
       "      <td>Greece</td>\n",
       "      <td>True</td>\n",
       "      <td>went three flight reach destination ba flight ...</td>\n",
       "    </tr>\n",
       "    <tr>\n",
       "      <th>4</th>\n",
       "      <td>An excellent flight in Club World on British A...</td>\n",
       "      <td>2</td>\n",
       "      <td>6th June 2023</td>\n",
       "      <td>United Kingdom</td>\n",
       "      <td>True</td>\n",
       "      <td>excellent flight club world british airway wel...</td>\n",
       "    </tr>\n",
       "  </tbody>\n",
       "</table>\n",
       "</div>"
      ],
      "text/plain": [
       "                                             reviews  \\\n",
       "0  I booked our first out of country trip to take...   \n",
       "1  My husband and I booked seats within our premi...   \n",
       "2  Not Verified |  May 3, flew from Seattle to He...   \n",
       "3  I went through three flights to reach my desti...   \n",
       "4  An excellent flight in Club World on British A...   \n",
       "\n",
       "                           stars           date         country  verified  \\\n",
       "0  \\n\\t\\t\\t\\t\\t\\t\\t\\t\\t\\t\\t\\t\\t5  8th June 2023   United States      True   \n",
       "1                              1  7th June 2023  United Kingdom      True   \n",
       "2                              4  6th June 2023   United States     False   \n",
       "3                              1  6th June 2023          Greece      True   \n",
       "4                              2  6th June 2023  United Kingdom      True   \n",
       "\n",
       "                                              corpus  \n",
       "0  booked first country trip take husband surpris...  \n",
       "1  husband booked seat within premium economy boo...  \n",
       "2  may flew seattle heathrow edinburgh ba lost go...  \n",
       "3  went three flight reach destination ba flight ...  \n",
       "4  excellent flight club world british airway wel...  "
      ]
     },
     "execution_count": 18,
     "metadata": {},
     "output_type": "execute_result"
    }
   ],
   "source": [
    "df['corpus'] = corpus\n",
    "df.head()"
   ]
  },
  {
   "cell_type": "markdown",
   "metadata": {},
   "source": [
    "### Cleaning/Formatting Dates"
   ]
  },
  {
   "cell_type": "code",
   "execution_count": 19,
   "metadata": {},
   "outputs": [
    {
     "data": {
      "text/plain": [
       "reviews     object\n",
       "stars       object\n",
       "date        object\n",
       "country     object\n",
       "verified      bool\n",
       "corpus      object\n",
       "dtype: object"
      ]
     },
     "execution_count": 19,
     "metadata": {},
     "output_type": "execute_result"
    }
   ],
   "source": [
    "df.dtypes"
   ]
  },
  {
   "cell_type": "code",
   "execution_count": 20,
   "metadata": {},
   "outputs": [
    {
     "data": {
      "text/plain": [
       "0   2023-06-08\n",
       "1   2023-06-07\n",
       "2   2023-06-06\n",
       "3   2023-06-06\n",
       "4   2023-06-06\n",
       "Name: date, dtype: datetime64[ns]"
      ]
     },
     "execution_count": 20,
     "metadata": {},
     "output_type": "execute_result"
    }
   ],
   "source": [
    "df.date = pd.to_datetime(df.date)\n",
    "df.date.head()"
   ]
  },
  {
   "cell_type": "markdown",
   "metadata": {},
   "source": [
    "### Cleaning/Formatting ratings with stars"
   ]
  },
  {
   "cell_type": "code",
   "execution_count": 21,
   "metadata": {},
   "outputs": [
    {
     "data": {
      "text/plain": [
       "array(['\\n\\t\\t\\t\\t\\t\\t\\t\\t\\t\\t\\t\\t\\t5', '1', '4', '2', '9', '3', '10',\n",
       "       '5', '7', '8', '6'], dtype=object)"
      ]
     },
     "execution_count": 21,
     "metadata": {},
     "output_type": "execute_result"
    }
   ],
   "source": [
    "df.stars.unique()"
   ]
  },
  {
   "cell_type": "code",
   "execution_count": 22,
   "metadata": {},
   "outputs": [
    {
     "data": {
      "text/plain": [
       "1     318\n",
       "2     115\n",
       "10    103\n",
       "3      95\n",
       "9      82\n",
       "8      73\n",
       "5      62\n",
       "4      58\n",
       "7      55\n",
       "6      39\n",
       "Name: stars, dtype: int64"
      ]
     },
     "execution_count": 22,
     "metadata": {},
     "output_type": "execute_result"
    }
   ],
   "source": [
    "df.stars = df.stars.str.strip('\\n\\t\\t\\t\\t\\t\\t\\t\\t\\t\\t\\t\\t\\t')\n",
    "df.stars.value_counts()"
   ]
  },
  {
   "cell_type": "code",
   "execution_count": 23,
   "metadata": {},
   "outputs": [],
   "source": [
    "# converting object type to integer type \n",
    "\n",
    "df['stars'] = df['stars'].astype(str).astype(int)"
   ]
  },
  {
   "cell_type": "code",
   "execution_count": 24,
   "metadata": {},
   "outputs": [],
   "source": [
    "# dropping the rows with 0 stars in ratings\n",
    "\n",
    "df.drop(df[df.stars == 0].index, axis = 0, inplace = True)"
   ]
  },
  {
   "cell_type": "code",
   "execution_count": 25,
   "metadata": {},
   "outputs": [
    {
     "data": {
      "text/plain": [
       "array([ 5,  1,  4,  2,  9,  3, 10,  7,  8,  6])"
      ]
     },
     "execution_count": 25,
     "metadata": {},
     "output_type": "execute_result"
    }
   ],
   "source": [
    "df.stars.unique()"
   ]
  },
  {
   "cell_type": "markdown",
   "metadata": {},
   "source": [
    "### Checking Null Values"
   ]
  },
  {
   "cell_type": "code",
   "execution_count": 26,
   "metadata": {},
   "outputs": [
    {
     "data": {
      "text/plain": [
       "reviews  stars  date   country  verified  corpus\n",
       "False    False  False  False    False     False     1000\n",
       "dtype: int64"
      ]
     },
     "execution_count": 26,
     "metadata": {},
     "output_type": "execute_result"
    }
   ],
   "source": [
    "df.isnull().value_counts()"
   ]
  },
  {
   "cell_type": "code",
   "execution_count": 27,
   "metadata": {},
   "outputs": [
    {
     "data": {
      "text/html": [
       "<div>\n",
       "<style scoped>\n",
       "    .dataframe tbody tr th:only-of-type {\n",
       "        vertical-align: middle;\n",
       "    }\n",
       "\n",
       "    .dataframe tbody tr th {\n",
       "        vertical-align: top;\n",
       "    }\n",
       "\n",
       "    .dataframe thead th {\n",
       "        text-align: right;\n",
       "    }\n",
       "</style>\n",
       "<table border=\"1\" class=\"dataframe\">\n",
       "  <thead>\n",
       "    <tr style=\"text-align: right;\">\n",
       "      <th></th>\n",
       "      <th>reviews</th>\n",
       "      <th>stars</th>\n",
       "      <th>date</th>\n",
       "      <th>country</th>\n",
       "      <th>verified</th>\n",
       "      <th>corpus</th>\n",
       "    </tr>\n",
       "  </thead>\n",
       "  <tbody>\n",
       "    <tr>\n",
       "      <th>0</th>\n",
       "      <td>I booked our first out of country trip to take...</td>\n",
       "      <td>5</td>\n",
       "      <td>2023-06-08</td>\n",
       "      <td>United States</td>\n",
       "      <td>True</td>\n",
       "      <td>booked first country trip take husband surpris...</td>\n",
       "    </tr>\n",
       "    <tr>\n",
       "      <th>1</th>\n",
       "      <td>My husband and I booked seats within our premi...</td>\n",
       "      <td>1</td>\n",
       "      <td>2023-06-07</td>\n",
       "      <td>United Kingdom</td>\n",
       "      <td>True</td>\n",
       "      <td>husband booked seat within premium economy boo...</td>\n",
       "    </tr>\n",
       "    <tr>\n",
       "      <th>2</th>\n",
       "      <td>Not Verified |  May 3, flew from Seattle to He...</td>\n",
       "      <td>4</td>\n",
       "      <td>2023-06-06</td>\n",
       "      <td>United States</td>\n",
       "      <td>False</td>\n",
       "      <td>may flew seattle heathrow edinburgh ba lost go...</td>\n",
       "    </tr>\n",
       "    <tr>\n",
       "      <th>3</th>\n",
       "      <td>I went through three flights to reach my desti...</td>\n",
       "      <td>1</td>\n",
       "      <td>2023-06-06</td>\n",
       "      <td>Greece</td>\n",
       "      <td>True</td>\n",
       "      <td>went three flight reach destination ba flight ...</td>\n",
       "    </tr>\n",
       "    <tr>\n",
       "      <th>4</th>\n",
       "      <td>An excellent flight in Club World on British A...</td>\n",
       "      <td>2</td>\n",
       "      <td>2023-06-06</td>\n",
       "      <td>United Kingdom</td>\n",
       "      <td>True</td>\n",
       "      <td>excellent flight club world british airway wel...</td>\n",
       "    </tr>\n",
       "    <tr>\n",
       "      <th>...</th>\n",
       "      <td>...</td>\n",
       "      <td>...</td>\n",
       "      <td>...</td>\n",
       "      <td>...</td>\n",
       "      <td>...</td>\n",
       "      <td>...</td>\n",
       "    </tr>\n",
       "    <tr>\n",
       "      <th>995</th>\n",
       "      <td>London Heathrow to Murcia and back. A few prob...</td>\n",
       "      <td>7</td>\n",
       "      <td>2018-07-29</td>\n",
       "      <td>China</td>\n",
       "      <td>True</td>\n",
       "      <td>london heathrow murcia back problem heathrow w...</td>\n",
       "    </tr>\n",
       "    <tr>\n",
       "      <th>996</th>\n",
       "      <td>London to Amsterdam. BA's service has gone not...</td>\n",
       "      <td>1</td>\n",
       "      <td>2018-07-28</td>\n",
       "      <td>United Kingdom</td>\n",
       "      <td>True</td>\n",
       "      <td>london amsterdam ba service gone notably downh...</td>\n",
       "    </tr>\n",
       "    <tr>\n",
       "      <th>997</th>\n",
       "      <td>Aberdeen to Abu Dhabi via London. Despite bein...</td>\n",
       "      <td>5</td>\n",
       "      <td>2018-07-27</td>\n",
       "      <td>United Kingdom</td>\n",
       "      <td>True</td>\n",
       "      <td>aberdeen abu dhabi via london despite gold mem...</td>\n",
       "    </tr>\n",
       "    <tr>\n",
       "      <th>998</th>\n",
       "      <td>Prague to Denver via London. I almost missed m...</td>\n",
       "      <td>8</td>\n",
       "      <td>2018-07-26</td>\n",
       "      <td>Czech Republic</td>\n",
       "      <td>True</td>\n",
       "      <td>prague denver via london almost missed flight ...</td>\n",
       "    </tr>\n",
       "    <tr>\n",
       "      <th>999</th>\n",
       "      <td>Seville to Gatwick. If it wasn't for Avios and...</td>\n",
       "      <td>4</td>\n",
       "      <td>2018-07-26</td>\n",
       "      <td>United Kingdom</td>\n",
       "      <td>True</td>\n",
       "      <td>seville gatwick avios fantastic deal make flyi...</td>\n",
       "    </tr>\n",
       "  </tbody>\n",
       "</table>\n",
       "<p>1000 rows × 6 columns</p>\n",
       "</div>"
      ],
      "text/plain": [
       "                                               reviews  stars       date  \\\n",
       "0    I booked our first out of country trip to take...      5 2023-06-08   \n",
       "1    My husband and I booked seats within our premi...      1 2023-06-07   \n",
       "2    Not Verified |  May 3, flew from Seattle to He...      4 2023-06-06   \n",
       "3    I went through three flights to reach my desti...      1 2023-06-06   \n",
       "4    An excellent flight in Club World on British A...      2 2023-06-06   \n",
       "..                                                 ...    ...        ...   \n",
       "995  London Heathrow to Murcia and back. A few prob...      7 2018-07-29   \n",
       "996  London to Amsterdam. BA's service has gone not...      1 2018-07-28   \n",
       "997  Aberdeen to Abu Dhabi via London. Despite bein...      5 2018-07-27   \n",
       "998  Prague to Denver via London. I almost missed m...      8 2018-07-26   \n",
       "999  Seville to Gatwick. If it wasn't for Avios and...      4 2018-07-26   \n",
       "\n",
       "            country  verified  \\\n",
       "0     United States      True   \n",
       "1    United Kingdom      True   \n",
       "2     United States     False   \n",
       "3            Greece      True   \n",
       "4    United Kingdom      True   \n",
       "..              ...       ...   \n",
       "995           China      True   \n",
       "996  United Kingdom      True   \n",
       "997  United Kingdom      True   \n",
       "998  Czech Republic      True   \n",
       "999  United Kingdom      True   \n",
       "\n",
       "                                                corpus  \n",
       "0    booked first country trip take husband surpris...  \n",
       "1    husband booked seat within premium economy boo...  \n",
       "2    may flew seattle heathrow edinburgh ba lost go...  \n",
       "3    went three flight reach destination ba flight ...  \n",
       "4    excellent flight club world british airway wel...  \n",
       "..                                                 ...  \n",
       "995  london heathrow murcia back problem heathrow w...  \n",
       "996  london amsterdam ba service gone notably downh...  \n",
       "997  aberdeen abu dhabi via london despite gold mem...  \n",
       "998  prague denver via london almost missed flight ...  \n",
       "999  seville gatwick avios fantastic deal make flyi...  \n",
       "\n",
       "[1000 rows x 6 columns]"
      ]
     },
     "execution_count": 27,
     "metadata": {},
     "output_type": "execute_result"
    }
   ],
   "source": [
    "# resetting the index\n",
    "\n",
    "df.reset_index(drop = True)"
   ]
  },
  {
   "cell_type": "markdown",
   "metadata": {},
   "source": [
    "Now our data is cleaned and ready for data visualization and analysis"
   ]
  },
  {
   "cell_type": "code",
   "execution_count": 28,
   "metadata": {},
   "outputs": [],
   "source": [
    "# exporting the cleaned data\n",
    "\n",
    "df.to_csv(cwd+ \"/cleaned_BA_reviews.csv\")"
   ]
  },
  {
   "cell_type": "markdown",
   "metadata": {},
   "source": [
    "### Exploratory Data Analysis"
   ]
  },
  {
   "cell_type": "code",
   "execution_count": 29,
   "metadata": {},
   "outputs": [],
   "source": [
    "import matplotlib.pyplot as plt\n",
    "import seaborn as sns\n",
    "import plotly.express as px\n",
    "import datetime as dt\n",
    "\n",
    "from wordcloud import WordCloud, STOPWORDS"
   ]
  },
  {
   "cell_type": "markdown",
   "metadata": {},
   "source": [
    "**What is the average overall rating given for British Airways?**"
   ]
  },
  {
   "cell_type": "code",
   "execution_count": 30,
   "metadata": {},
   "outputs": [
    {
     "data": {
      "text/plain": [
       "4.346"
      ]
     },
     "execution_count": 30,
     "metadata": {},
     "output_type": "execute_result"
    }
   ],
   "source": [
    "df.stars.mean()"
   ]
  },
  {
   "cell_type": "markdown",
   "metadata": {},
   "source": [
    "**What is the total counts for each rating?**"
   ]
  },
  {
   "cell_type": "code",
   "execution_count": 31,
   "metadata": {},
   "outputs": [
    {
     "data": {
      "text/plain": [
       "Text(0.5, 0.98, 'Counts for each Ratings')"
      ]
     },
     "execution_count": 31,
     "metadata": {},
     "output_type": "execute_result"
    },
    {
     "data": {
      "image/png": "[encoded data removed]",
      "text/plain": [
       "<Figure size 640x480 with 1 Axes>"
      ]
     },
     "metadata": {},
     "output_type": "display_data"
    }
   ],
   "source": [
    "df.stars.value_counts().plot(kind = 'bar')\n",
    "plt.xlabel(\"Ratings\")\n",
    "plt.ylabel(\"Total no. of reviews\")\n",
    "plt.suptitle(\"Counts for each Ratings\")"
   ]
  },
  {
   "cell_type": "code",
   "execution_count": 32,
   "metadata": {},
   "outputs": [],
   "source": [
    "df_ratings = pd.DataFrame(df.stars.value_counts())\n",
    "pct_values = (df_ratings.stars.values/df_ratings.stars.values.sum() *100).tolist()\n",
    "pct_values = [round(x,2) for x in pct_values]\n",
    "df_ratings['pct_values'] = pct_values"
   ]
  },
  {
   "cell_type": "code",
   "execution_count": 33,
   "metadata": {},
   "outputs": [
    {
     "data": {
      "text/html": [
       "<div>\n",
       "<style scoped>\n",
       "    .dataframe tbody tr th:only-of-type {\n",
       "        vertical-align: middle;\n",
       "    }\n",
       "\n",
       "    .dataframe tbody tr th {\n",
       "        vertical-align: top;\n",
       "    }\n",
       "\n",
       "    .dataframe thead th {\n",
       "        text-align: right;\n",
       "    }\n",
       "</style>\n",
       "<table border=\"1\" class=\"dataframe\">\n",
       "  <thead>\n",
       "    <tr style=\"text-align: right;\">\n",
       "      <th></th>\n",
       "      <th>index</th>\n",
       "      <th>stars</th>\n",
       "      <th>pct_values</th>\n",
       "    </tr>\n",
       "  </thead>\n",
       "  <tbody>\n",
       "    <tr>\n",
       "      <th>0</th>\n",
       "      <td>1</td>\n",
       "      <td>318</td>\n",
       "      <td>31.8</td>\n",
       "    </tr>\n",
       "    <tr>\n",
       "      <th>1</th>\n",
       "      <td>2</td>\n",
       "      <td>115</td>\n",
       "      <td>11.5</td>\n",
       "    </tr>\n",
       "    <tr>\n",
       "      <th>2</th>\n",
       "      <td>10</td>\n",
       "      <td>103</td>\n",
       "      <td>10.3</td>\n",
       "    </tr>\n",
       "    <tr>\n",
       "      <th>3</th>\n",
       "      <td>3</td>\n",
       "      <td>95</td>\n",
       "      <td>9.5</td>\n",
       "    </tr>\n",
       "    <tr>\n",
       "      <th>4</th>\n",
       "      <td>9</td>\n",
       "      <td>82</td>\n",
       "      <td>8.2</td>\n",
       "    </tr>\n",
       "    <tr>\n",
       "      <th>5</th>\n",
       "      <td>8</td>\n",
       "      <td>73</td>\n",
       "      <td>7.3</td>\n",
       "    </tr>\n",
       "    <tr>\n",
       "      <th>6</th>\n",
       "      <td>5</td>\n",
       "      <td>62</td>\n",
       "      <td>6.2</td>\n",
       "    </tr>\n",
       "    <tr>\n",
       "      <th>7</th>\n",
       "      <td>4</td>\n",
       "      <td>58</td>\n",
       "      <td>5.8</td>\n",
       "    </tr>\n",
       "    <tr>\n",
       "      <th>8</th>\n",
       "      <td>7</td>\n",
       "      <td>55</td>\n",
       "      <td>5.5</td>\n",
       "    </tr>\n",
       "    <tr>\n",
       "      <th>9</th>\n",
       "      <td>6</td>\n",
       "      <td>39</td>\n",
       "      <td>3.9</td>\n",
       "    </tr>\n",
       "  </tbody>\n",
       "</table>\n",
       "</div>"
      ],
      "text/plain": [
       "   index  stars  pct_values\n",
       "0      1    318        31.8\n",
       "1      2    115        11.5\n",
       "2     10    103        10.3\n",
       "3      3     95         9.5\n",
       "4      9     82         8.2\n",
       "5      8     73         7.3\n",
       "6      5     62         6.2\n",
       "7      4     58         5.8\n",
       "8      7     55         5.5\n",
       "9      6     39         3.9"
      ]
     },
     "execution_count": 33,
     "metadata": {},
     "output_type": "execute_result"
    }
   ],
   "source": [
    "# resetting index again so there is no confusion b/w the index and rating values\n",
    "\n",
    "df_ratings = df_ratings.reset_index()\n",
    "df_ratings"
   ]
  },
  {
   "cell_type": "code",
   "execution_count": 34,
   "metadata": {},
   "outputs": [],
   "source": [
    "# renaming columns \n",
    "\n",
    "df_ratings.rename(columns = {'index':'Stars','stars':'Total_counts'}, inplace = True)"
   ]
  },
  {
   "cell_type": "code",
   "execution_count": 35,
   "metadata": {},
   "outputs": [
    {
     "data": {
      "text/html": [
       "<div>\n",
       "<style scoped>\n",
       "    .dataframe tbody tr th:only-of-type {\n",
       "        vertical-align: middle;\n",
       "    }\n",
       "\n",
       "    .dataframe tbody tr th {\n",
       "        vertical-align: top;\n",
       "    }\n",
       "\n",
       "    .dataframe thead th {\n",
       "        text-align: right;\n",
       "    }\n",
       "</style>\n",
       "<table border=\"1\" class=\"dataframe\">\n",
       "  <thead>\n",
       "    <tr style=\"text-align: right;\">\n",
       "      <th></th>\n",
       "      <th>Stars</th>\n",
       "      <th>Total_counts</th>\n",
       "      <th>pct_values</th>\n",
       "    </tr>\n",
       "  </thead>\n",
       "  <tbody>\n",
       "    <tr>\n",
       "      <th>0</th>\n",
       "      <td>1</td>\n",
       "      <td>318</td>\n",
       "      <td>31.8</td>\n",
       "    </tr>\n",
       "    <tr>\n",
       "      <th>1</th>\n",
       "      <td>2</td>\n",
       "      <td>115</td>\n",
       "      <td>11.5</td>\n",
       "    </tr>\n",
       "    <tr>\n",
       "      <th>2</th>\n",
       "      <td>10</td>\n",
       "      <td>103</td>\n",
       "      <td>10.3</td>\n",
       "    </tr>\n",
       "    <tr>\n",
       "      <th>3</th>\n",
       "      <td>3</td>\n",
       "      <td>95</td>\n",
       "      <td>9.5</td>\n",
       "    </tr>\n",
       "    <tr>\n",
       "      <th>4</th>\n",
       "      <td>9</td>\n",
       "      <td>82</td>\n",
       "      <td>8.2</td>\n",
       "    </tr>\n",
       "    <tr>\n",
       "      <th>5</th>\n",
       "      <td>8</td>\n",
       "      <td>73</td>\n",
       "      <td>7.3</td>\n",
       "    </tr>\n",
       "    <tr>\n",
       "      <th>6</th>\n",
       "      <td>5</td>\n",
       "      <td>62</td>\n",
       "      <td>6.2</td>\n",
       "    </tr>\n",
       "    <tr>\n",
       "      <th>7</th>\n",
       "      <td>4</td>\n",
       "      <td>58</td>\n",
       "      <td>5.8</td>\n",
       "    </tr>\n",
       "    <tr>\n",
       "      <th>8</th>\n",
       "      <td>7</td>\n",
       "      <td>55</td>\n",
       "      <td>5.5</td>\n",
       "    </tr>\n",
       "    <tr>\n",
       "      <th>9</th>\n",
       "      <td>6</td>\n",
       "      <td>39</td>\n",
       "      <td>3.9</td>\n",
       "    </tr>\n",
       "  </tbody>\n",
       "</table>\n",
       "</div>"
      ],
      "text/plain": [
       "   Stars  Total_counts  pct_values\n",
       "0      1           318        31.8\n",
       "1      2           115        11.5\n",
       "2     10           103        10.3\n",
       "3      3            95         9.5\n",
       "4      9            82         8.2\n",
       "5      8            73         7.3\n",
       "6      5            62         6.2\n",
       "7      4            58         5.8\n",
       "8      7            55         5.5\n",
       "9      6            39         3.9"
      ]
     },
     "execution_count": 35,
     "metadata": {},
     "output_type": "execute_result"
    }
   ],
   "source": [
    "df_ratings"
   ]
  },
  {
   "cell_type": "code",
   "execution_count": 36,
   "metadata": {},
   "outputs": [
    {
     "data": {
      "text/plain": [
       "Text(0.5, 1.0, 'Counts for each ratings')"
      ]
     },
     "execution_count": 36,
     "metadata": {},
     "output_type": "execute_result"
    },
    {
     "data": {
      "image/png": "[encoded data removed]",
      "text/plain": [
       "<Figure size 640x480 with 1 Axes>"
      ]
     },
     "metadata": {},
     "output_type": "display_data"
    }
   ],
   "source": [
    "clrs = ['Red' if (x == max(df_ratings.Total_counts)) else 'blue' for x in df_ratings.Total_counts]\n",
    "ax = sns.barplot(x = df_ratings.Stars, y = df_ratings.Total_counts, data = df_ratings, errwidth = 0, palette = clrs)\n",
    "\n",
    "ax.bar_label(ax.containers[0])\n",
    "ax.set_xlabel('Ratings')\n",
    "ax.set_ylabel('Total number of Reviews')\n",
    "ax.set_title('Counts for each ratings')"
   ]
  },
  {
   "cell_type": "code",
   "execution_count": 37,
   "metadata": {},
   "outputs": [
    {
     "name": "stdout",
     "output_type": "stream",
     "text": [
      "54 unique countries\n"
     ]
    }
   ],
   "source": [
    "# Unique Countries from where BA recieved the reviews\n",
    "\n",
    "print(f\"{len(df.country.unique())} unique countries\")"
   ]
  },
  {
   "cell_type": "markdown",
   "metadata": {},
   "source": [
    "**Which country most reviews come from?**"
   ]
  },
  {
   "cell_type": "code",
   "execution_count": 38,
   "metadata": {},
   "outputs": [],
   "source": [
    "df_country_review = pd.DataFrame(df.country.value_counts().head()).reset_index()"
   ]
  },
  {
   "cell_type": "code",
   "execution_count": 39,
   "metadata": {},
   "outputs": [],
   "source": [
    "df_country_review.rename(columns = {'index':'Country','country':'Total_reviews'}, inplace = True)"
   ]
  },
  {
   "cell_type": "code",
   "execution_count": 40,
   "metadata": {},
   "outputs": [
    {
     "data": {
      "text/plain": [
       "Text(0.5, 1.0, 'Maximum number of reviews by country')"
      ]
     },
     "execution_count": 40,
     "metadata": {},
     "output_type": "execute_result"
    },
    {
     "data": {
      "image/png": "[encoded data removed]",
      "text/plain": [
       "<Figure size 640x480 with 1 Axes>"
      ]
     },
     "metadata": {},
     "output_type": "display_data"
    }
   ],
   "source": [
    "df_country_review.plot(kind = \"bar\", x = 'Country')\n",
    "plt.title(\"Maximum number of reviews by country\")"
   ]
  },
  {
   "cell_type": "markdown",
   "metadata": {},
   "source": [
    "**Which country provided on average highest ratings?**"
   ]
  },
  {
   "cell_type": "code",
   "execution_count": 41,
   "metadata": {},
   "outputs": [
    {
     "name": "stderr",
     "output_type": "stream",
     "text": [
      "C:\\Users\\shukl\\AppData\\Local\\Temp\\ipykernel_2424\\2935322440.py:1: FutureWarning: The default value of numeric_only in DataFrameGroupBy.mean is deprecated. In a future version, numeric_only will default to False. Either specify numeric_only or select only columns which should be valid for the function.\n",
      "  df_country_rating = pd.DataFrame(df.groupby('country').mean()['stars'].sort_values(ascending = False)).reset_index()\n"
     ]
    }
   ],
   "source": [
    "df_country_rating = pd.DataFrame(df.groupby('country').mean()['stars'].sort_values(ascending = False)).reset_index()"
   ]
  },
  {
   "cell_type": "code",
   "execution_count": 42,
   "metadata": {},
   "outputs": [],
   "source": [
    "df_country_rating.rename(columns={'stars':'avg_rating'}, inplace=True)"
   ]
  },
  {
   "cell_type": "code",
   "execution_count": 44,
   "metadata": {},
   "outputs": [
    {
     "data": {
      "text/plain": [
       "Text(0.5, 1.0, 'Top 10 Countries with avg highest rating provided to British Airways')"
      ]
     },
     "execution_count": 44,
     "metadata": {},
     "output_type": "execute_result"
    },
    {
     "data": {
      "image/png": "[encoded data removed]",
      "text/plain": [
       "<Figure size 1800x500 with 1 Axes>"
      ]
     },
     "metadata": {},
     "output_type": "display_data"
    }
   ],
   "source": [
    "fig, ax = plt.subplots(figsize=(18,5))\n",
    "ax1 = sns.barplot(x='country', y='avg_rating', data=df_country_rating[:10])\n",
    "ax.bar_label(ax.containers[0])\n",
    "ax.set_title(\"Top 10 Countries with avg highest rating provided to British Airways\")"
   ]
  }
 ],
 "metadata": {
  "kernelspec": {
   "display_name": "Python 3 (ipykernel)",
   "language": "python",
   "name": "python3"
  },
  "language_info": {
   "codemirror_mode": {
    "name": "ipython",
    "version": 3
   },
   "file_extension": ".py",
   "mimetype": "text/x-python",
   "name": "python",
   "nbconvert_exporter": "python",
   "pygments_lexer": "ipython3",
   "version": "3.10.6"
  },
  "vscode": {
   "interpreter": {
    "hash": "4f7924c4c56b083e0e50eadfe7ef592a7a8ef70df33a0047f82280e6be1afe15"
   }
  }
 },
 "nbformat": 4,
 "nbformat_minor": 2
}
